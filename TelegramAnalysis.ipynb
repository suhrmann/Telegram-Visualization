{
 "cells": [
  {
   "cell_type": "markdown",
   "metadata": {},
   "source": [
    "# Analyse Telegram Chat\n",
    "\n",
    "Anlayse and visualize the exported messages from `Telegram Desktop`\n",
    "\n",
    "-----"
   ]
  },
  {
   "cell_type": "markdown",
   "metadata": {},
   "source": [
    "### Telegram Chat Export Tool\n",
    "\n",
    "For documentation how to export chats head over to the doc **with video** at [blog of Telegram](https://www.telegram.org/blog/export-and-more)\n",
    "\n",
    "-----\n"
   ]
  },
  {
   "cell_type": "markdown",
   "metadata": {},
   "source": [
    "## Paramter"
   ]
  },
  {
   "cell_type": "code",
   "execution_count": null,
   "metadata": {},
   "outputs": [],
   "source": [
    "# The directory containing the data export\n",
    "EXPORT_FOLDER = \"~/Downloads/Telegram Desktop/ChatExport_04_01_2020/\"\n"
   ]
  },
  {
   "cell_type": "markdown",
   "metadata": {},
   "source": [
    "## Parse Telegram Data"
   ]
  },
  {
   "cell_type": "code",
   "execution_count": null,
   "metadata": {},
   "outputs": [],
   "source": [
    "\"\"\"\n",
    "Author: Jan-Eike Golenia  @jagoleni\n",
    "Source: https://github.com/jagoleni/tele-data/blob/master/tele-data.py\n",
    "\"\"\"\n",
    "import os\n",
    "\n",
    "from lxml import etree\n",
    "\n",
    "import pandas as pd\n",
    "import matplotlib.pyplot as plt\n",
    "\n",
    "def parse_file(html_string):\n",
    "    data = []\n",
    "    parser = etree.HTMLParser()\n",
    "    root = etree.HTML(html_string)\n",
    "    for element in root.iter():\n",
    "        if \"id\" in element.attrib:\n",
    "            message = {}\n",
    "            message[\"message_id\"] = element.attrib[\"id\"]\n",
    "            for child in element.getchildren():\n",
    "                if element.attrib[\"class\"] == \"message service\" and \\\n",
    "                    child.attrib[\"class\"] == \"body details\":\n",
    "                        message[\"text\"] = child.text.strip()\n",
    "                        message['type'] = 'service_message'\n",
    "                if child.attrib[\"class\"] == \"body\":\n",
    "                    for grandchild in child.getchildren():\n",
    "                        if grandchild.attrib[\"class\"] == \"from_name\":\n",
    "                            name = grandchild.text.strip()\n",
    "                            message[\"name\"] = name\n",
    "                        if grandchild.attrib[\"class\"] == \"pull_right date details\":\n",
    "                            message['timestamp'] = grandchild.attrib[\"title\"]\n",
    "                        if grandchild.attrib[\"class\"] == \"text\":\n",
    "                            message['text'] = grandchild.text.strip()\n",
    "                            message['type'] = 'text'\n",
    "                        if grandchild.attrib[\"class\"] == \"forwarded body\":\n",
    "                            message['type'] = \"forwarded_message\"\n",
    "                        if grandchild.attrib[\"class\"] == \"media_wrap clearfix\":\n",
    "                            message['type'] = \\\n",
    "                                grandchild.getchildren()[0].attrib[\"class\"].split()[-1]\n",
    "            if element.attrib[\"class\"] == \"message default clearfix joined\":\n",
    "                message[\"joined_message\"] = True\n",
    "                message[\"name\"] = name\n",
    "            if element.attrib[\"class\"] == \"message default clearfix\":\n",
    "                message[\"joined_message\"] = False\n",
    "            data.append(message)\n",
    "    return data\n",
    "\n",
    "data = []\n",
    "filecount = 0\n",
    "for fname in os.listdir(EXPORT_FOLDER):\n",
    "    fpath = os.path.join(EXPORT_FOLDER, fname)\n",
    "    if os.path.isfile(fpath) and os.path.splitext(fpath)[-1] == \".html\":\n",
    "        with open(fpath, encoding='utf8') as f:\n",
    "            # print(\"Reading\", fname, \"...\")\n",
    "            data += parse_file(f.read())\n",
    "            filecount += 1\n",
    "\n",
    "df = pd.DataFrame(data)\n",
    "df[\"timestamp\"] = pd.to_datetime(df[\"timestamp\"], format=\"%d.%m.%Y %H:%M:%S\")\n",
    "#plot_message_count_by_name(df)\n",
    "\n",
    "print(\"Queried \", len(df.index), \"raw messages from \", filecount, \"files.\")\n"
   ]
  },
  {
   "cell_type": "code",
   "execution_count": null,
   "metadata": {},
   "outputs": [],
   "source": [
    "# filter out all service_message\n",
    "messages = df.loc[df['type'] == \"text\"]"
   ]
  },
  {
   "cell_type": "code",
   "execution_count": null,
   "metadata": {},
   "outputs": [],
   "source": [
    "# Display parsed messages\n",
    "messages"
   ]
  },
  {
   "cell_type": "markdown",
   "metadata": {},
   "source": [
    "-----"
   ]
  },
  {
   "cell_type": "markdown",
   "metadata": {},
   "source": [
    "# Visualize\n",
    "\n",
    "To setup Plotly with Jupyter Lab follow the instructions at [plotly > Getting Started](https://plot.ly/python/getting-started/) - especially the [Jupyter Lab instructions](https://plot.ly/python/getting-started/#jupyterlab-support-python-35)"
   ]
  },
  {
   "cell_type": "code",
   "execution_count": null,
   "metadata": {},
   "outputs": [],
   "source": [
    "import plotly.graph_objects as go"
   ]
  },
  {
   "cell_type": "raw",
   "metadata": {},
   "source": [
    "# Plotly-Test\n",
    "import plotly.graph_objects as go\n",
    "fig = go.Figure(data=go.Bar(y=[2, 3, 1]))\n",
    "fig.show()"
   ]
  },
  {
   "cell_type": "markdown",
   "metadata": {},
   "source": [
    "# Messages by date"
   ]
  },
  {
   "cell_type": "code",
   "execution_count": null,
   "metadata": {},
   "outputs": [],
   "source": [
    "# Date\n",
    "\n",
    "dates = pd.DataFrame( messages['timestamp'].dt.date )\n",
    "date_counts = pd.DataFrame( dates.stack().value_counts(sort=False) )\n",
    "\n",
    "data = [go.Bar(x=date_counts.index, y=date_counts[0])]\n",
    "\n",
    "fig = go.Figure(data)\n",
    "fig.show()"
   ]
  },
  {
   "cell_type": "markdown",
   "metadata": {},
   "source": [
    "# Messages by Time\n"
   ]
  },
  {
   "cell_type": "code",
   "execution_count": null,
   "metadata": {},
   "outputs": [],
   "source": [
    "# Date\n",
    "\n",
    "hours = pd.DataFrame( pd.DatetimeIndex(messages['timestamp']).hour )\n",
    "\n",
    "time_counts = pd.DataFrame( hours.stack().value_counts(sort=False) ) \n",
    "\n",
    "data = [go.Bar(x=time_counts.index, y=time_counts[0])]\n",
    "\n",
    "fig = go.Figure(data)\n",
    "fig.show()"
   ]
  },
  {
   "cell_type": "code",
   "execution_count": null,
   "metadata": {},
   "outputs": [],
   "source": [
    "lbls = list( time_counts.index.astype(str) )\n",
    "data = [go.Pie(labels=lbls, values=time_counts[0], hole=.3, marker_colors=night_colors)]\n",
    "\n",
    "fig.update_traces(textposition='inside', textinfo='label')\n",
    "fig = go.Figure(data=data)\n",
    "fig.show()"
   ]
  },
  {
   "cell_type": "markdown",
   "metadata": {},
   "source": [
    "# Word count\n"
   ]
  },
  {
   "cell_type": "code",
   "execution_count": null,
   "metadata": {},
   "outputs": [],
   "source": [
    "# TODO ..."
   ]
  }
 ],
 "metadata": {
  "kernelspec": {
   "display_name": "Python 3",
   "language": "python",
   "name": "python3"
  },
  "language_info": {
   "codemirror_mode": {
    "name": "ipython",
    "version": 3
   },
   "file_extension": ".py",
   "mimetype": "text/x-python",
   "name": "python",
   "nbconvert_exporter": "python",
   "pygments_lexer": "ipython3",
   "version": "3.8.0"
  }
 },
 "nbformat": 4,
 "nbformat_minor": 4
}
